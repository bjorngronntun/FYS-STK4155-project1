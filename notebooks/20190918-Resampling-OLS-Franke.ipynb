{
 "cells": [
  {
   "cell_type": "markdown",
   "metadata": {},
   "source": [
    "# Part b) Resampling techniques, adding more complexity\n",
    "In this notebook, we will use different techniques to ensure that our evaluation will be done on \"fresh\" data, rather than on the same data that was used for training."
   ]
  },
  {
   "cell_type": "code",
   "execution_count": 5,
   "metadata": {},
   "outputs": [],
   "source": [
    "import numpy as np\n",
    "import os\n",
    "import pandas as pd\n",
    "from sklearn.model_selection import train_test_split\n",
    "os.sys.path.append(os.path.dirname(os.path.abspath('.')))\n",
    "\n",
    "# Import local modules\n",
    "from src.data.generate_data import FrankeFunction\n",
    "from src.models.models import OLS\n",
    "from src.evaluation.evaluation import mse, r_squared\n",
    "from src.resampling.resampling import K_fold_splitter"
   ]
  },
  {
   "cell_type": "code",
   "execution_count": 4,
   "metadata": {},
   "outputs": [],
   "source": [
    "df_X = pd.read_csv('../data/generated/X.csv', index_col=0)\n",
    "df_z_no_noise = pd.read_csv('../data/generated/no_noise.csv', usecols=[1])\n",
    "df_z_some_noise = pd.read_csv('../data/generated/some_noise.csv', usecols=[1])\n",
    "df_z_noisy = pd.read_csv('../data/generated/noisy.csv', usecols=[1])\n",
    "\n",
    "X = np.array(df_X)\n",
    "z_no_noise = np.array(df_z_no_noise).ravel()\n",
    "z_some_noise = np.array(df_z_some_noise).ravel()\n",
    "z_noisy = np.array(df_z_noisy).ravel()"
   ]
  },
  {
   "cell_type": "markdown",
   "metadata": {},
   "source": [
    "We will now use $\\texttt{train_test_split}$ from $\\texttt{sklearn.model_selection}$ in order to split our datasets in train and test sets. As we have three separate sets of target values, we will do this thrice."
   ]
  },
  {
   "cell_type": "code",
   "execution_count": 19,
   "metadata": {},
   "outputs": [
    {
     "name": "stdout",
     "output_type": "stream",
     "text": [
      "Data                          |MSE       |R^2       \n",
      "--------------------------------------------------\n",
      "No noise                      |0.003428  |0.999630  \n",
      "Some noise (sigma 0.1)        |0.014821  |0.998520  \n",
      "Noisy (sigma 0.9)             |1.067697  |0.990548  \n"
     ]
    }
   ],
   "source": [
    "targets = [{\n",
    "    'name': 'No noise',\n",
    "    'values': z_no_noise\n",
    "},\n",
    "{\n",
    "    'name': 'Some noise (sigma 0.1)',\n",
    "    'values': z_some_noise\n",
    "},\n",
    "{\n",
    "    'name': 'Noisy (sigma 0.9)',\n",
    "    'values': z_noisy\n",
    "}]\n",
    "col_names = ['MSE', 'R^2']\n",
    "output_df = pd.DataFrame(columns=col_names)\n",
    "\n",
    "print('%-30s|%-10s|%-10s' %('Data', 'MSE', 'R^2'))\n",
    "print('-'*50)\n",
    "\n",
    "for target in targets:\n",
    "    X_train, X_test, z_train, z_test = train_test_split(X, target['values'], test_size=0.3, random_state=12)\n",
    "    ol = OLS()\n",
    "    ol.fit(X_train, z_train)\n",
    "    predictions = ol.predict(X_test)\n",
    "    mse_value = mse(z_test, predictions)\n",
    "    r_2_value = r_squared(z_test, predictions)\n",
    "    print('%-30s|%-10f|%-10f' %(target['name'], mse_value, r_2_value))\n",
    "    output_df = output_df.append(pd.DataFrame(data=[[mse_value, r_2_value]], columns=col_names, index=[target['name']]))\n",
    "\n",
    "output_df.to_csv('../reports/csv_files/2_mse_r2_score.csv')"
   ]
  },
  {
   "cell_type": "code",
   "execution_count": 3,
   "metadata": {},
   "outputs": [
    {
     "name": "stdout",
     "output_type": "stream",
     "text": [
      "6.878     0.97772845\n",
      "11.510    0.96764420\n",
      "9.960     0.97329942\n",
      "10.612    0.97663653\n",
      "11.641    0.96517201\n",
      "8.161     0.97529395\n",
      "10.097    0.97292284\n",
      "11.266    0.97223209\n",
      "9.160     0.97282911\n",
      "7.978     0.97724881\n"
     ]
    }
   ],
   "source": [
    "ols = OLS()\n",
    "z = FrankeFunction(x, y, noise=3, seed=43)\n",
    "kfs = K_fold_splitter(X.shape[0], 10)\n",
    "fold_indices = kfs.cross_val_split()\n",
    "\n",
    "for fold in fold_indices:\n",
    "    X_train = X[fold['train_indices']]\n",
    "    z_train = z[fold['train_indices']]\n",
    "    X_test = X[fold['test_indices']]\n",
    "    z_test = z[fold['test_indices']]\n",
    "    ols.fit(X_train, z_train)\n",
    "    predictions = ols.predict(X_test)\n",
    "    mean_squared_error = mse(z_test, predictions)\n",
    "    r_s = r_squared(z_test, predictions)\n",
    "    print('%-10.3f%-10.8f' %(mean_squared_error, r_s))\n",
    "    \n"
   ]
  }
 ],
 "metadata": {
  "kernelspec": {
   "display_name": "Python [conda env:anaconda]",
   "language": "python",
   "name": "conda-env-anaconda-py"
  },
  "language_info": {
   "codemirror_mode": {
    "name": "ipython",
    "version": 3
   },
   "file_extension": ".py",
   "mimetype": "text/x-python",
   "name": "python",
   "nbconvert_exporter": "python",
   "pygments_lexer": "ipython3",
   "version": "3.5.6"
  }
 },
 "nbformat": 4,
 "nbformat_minor": 2
}
