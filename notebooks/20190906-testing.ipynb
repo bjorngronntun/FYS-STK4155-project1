{
 "cells": [
  {
   "cell_type": "markdown",
   "metadata": {},
   "source": [
    "# Unit tests - a summary\n",
    "This notebook contains explanations and results of the testing done in the development of the Python modules. The actual code for the tests are in the modules themselves."
   ]
  },
  {
   "cell_type": "code",
   "execution_count": 1,
   "metadata": {},
   "outputs": [],
   "source": [
    "import numpy as np\n",
    "import os\n",
    "os.sys.path.append(os.path.dirname(os.path.abspath('.')))"
   ]
  },
  {
   "cell_type": "markdown",
   "metadata": {},
   "source": [
    "## Polynomial features\n",
    "The class $\\texttt{PolynomialFeaturesTest}$ in $\\texttt{src/features/polynomial.py}$ takes care of the testing of the class $\\texttt{PolynomialFeatures}$. It works by creating two cases, one where the feature matrix $X$ is\n",
    "\n",
    "$$\n",
    "\\begin{bmatrix}\n",
    "2 & 3\n",
    "\\end{bmatrix}\n",
    "$$\n",
    "\n",
    "where the expected output of the $\\texttt{fit_transform}$ function when transforming to polynomial features of maximal degree 2 should be\n",
    "\n",
    "$$\n",
    "\\begin{bmatrix}\n",
    "1 & 2^1 & 3^1 & 2^2 & 2^1 \\times 3^1 & 3^2\n",
    "\\end{bmatrix}\n",
    "$$\n",
    "\n",
    "that is\n",
    "\n",
    "$$\n",
    "\\begin{bmatrix}\n",
    "1 & 2 & 3 & 4 & 6 & 9 \n",
    "\\end{bmatrix}\n",
    "$$\n",
    "\n",
    "The other case is slightly more complicated, as we use floats and have to test for almost equality. Here we test the feature matrix\n",
    "\n",
    "$$\n",
    "X =\n",
    "\\begin{bmatrix}\n",
    "0.5 & 2.0 \\\\\n",
    "0.2 & 1.1\n",
    "\\end{bmatrix}\n",
    "$$\n",
    "\n",
    "again by transforming to polynomial features of maximal degree 2."
   ]
  },
  {
   "cell_type": "code",
   "execution_count": 3,
   "metadata": {},
   "outputs": [
    {
     "name": "stdout",
     "output_type": "stream",
     "text": [
      "..\r\n",
      "----------------------------------------------------------------------\r\n",
      "Ran 2 tests in 0.003s\r\n",
      "\r\n",
      "OK\r\n"
     ]
    }
   ],
   "source": [
    "!python ../src/features/polynomial.py"
   ]
  },
  {
   "cell_type": "markdown",
   "metadata": {},
   "source": [
    "As we see, our code passed the test with flying colours."
   ]
  }
 ],
 "metadata": {
  "kernelspec": {
   "display_name": "Python [conda env:anaconda]",
   "language": "python",
   "name": "conda-env-anaconda-py"
  },
  "language_info": {
   "codemirror_mode": {
    "name": "ipython",
    "version": 3
   },
   "file_extension": ".py",
   "mimetype": "text/x-python",
   "name": "python",
   "nbconvert_exporter": "python",
   "pygments_lexer": "ipython3",
   "version": "3.5.6"
  }
 },
 "nbformat": 4,
 "nbformat_minor": 2
}
