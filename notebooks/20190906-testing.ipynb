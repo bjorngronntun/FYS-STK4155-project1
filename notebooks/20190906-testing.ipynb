{
 "cells": [
  {
   "cell_type": "markdown",
   "metadata": {},
   "source": [
    "# Unit tests - a summary\n",
    "This notebook contains explanations and results of the testing done in the development of the Python modules. The actual code for the tests are in the modules themselves."
   ]
  },
  {
   "cell_type": "code",
   "execution_count": 1,
   "metadata": {},
   "outputs": [],
   "source": [
    "import numpy as np\n",
    "import os\n",
    "os.sys.path.append(os.path.dirname(os.path.abspath('.')))"
   ]
  },
  {
   "cell_type": "markdown",
   "metadata": {},
   "source": [
    "## Polynomial features\n",
    "The class $\\texttt{PolynomialFeaturesTest}$ in $\\texttt{src/features/polynomial.py}$ takes care of the testing of the class $\\texttt{PolynomialFeatures}$. It works by creating two cases, one where the feature matrix $X$ is\n",
    "\n",
    "$$\n",
    "\\begin{bmatrix}\n",
    "2 & 3\n",
    "\\end{bmatrix}\n",
    "$$\n",
    "\n",
    "where the expected output of the $\\texttt{fit_transform}$ function when transforming to polynomial features of maximal degree 2 should be\n",
    "\n",
    "$$\n",
    "\\begin{bmatrix}\n",
    "1 & 2^1 & 3^1 & 2^2 & 2^1 \\times 3^1 & 3^2\n",
    "\\end{bmatrix}\n",
    "$$\n",
    "\n",
    "that is\n",
    "\n",
    "$$\n",
    "\\begin{bmatrix}\n",
    "1 & 2 & 3 & 4 & 6 & 9 \n",
    "\\end{bmatrix}\n",
    "$$\n",
    "\n",
    "The other case is slightly more complicated, as we use floats and have to test for almost equality. Here we test the feature matrix\n",
    "\n",
    "$$\n",
    "X =\n",
    "\\begin{bmatrix}\n",
    "0.5 & 2.0 \\\\\n",
    "0.2 & 1.1\n",
    "\\end{bmatrix}\n",
    "$$\n",
    "\n",
    "again by transforming to polynomial features of maximal degree 2."
   ]
  },
  {
   "cell_type": "code",
   "execution_count": 2,
   "metadata": {},
   "outputs": [
    {
     "name": "stdout",
     "output_type": "stream",
     "text": [
      "..\n",
      "----------------------------------------------------------------------\n",
      "Ran 2 tests in 0.006s\n",
      "\n",
      "OK\n"
     ]
    }
   ],
   "source": [
    "!python ../src/features/polynomial.py"
   ]
  },
  {
   "cell_type": "markdown",
   "metadata": {},
   "source": [
    "As we see, our code passed the test with flying colours."
   ]
  },
  {
   "cell_type": "markdown",
   "metadata": {},
   "source": [
    "## MSE and R squared\n",
    "In $\\texttt{src/evaluation/evaluation.py}$, in addition to the functions $\\texttt{mse}$ and $\\texttt{r_squared}$, we also have a class $\\texttt{EvaluationTest}$ for evaluating them. (I am, by the way, grateful I wrote this particular test, because it led me to discover an error in my initial implementation which had yielded somewhat strange, but not entirely implausible results.)\n",
    "\n",
    "I won't describe in detail what the test functions do - I think they are pretty easy to understand. I have simply computed the expected score on paper and compare that to the output by the functions.\n",
    "\n",
    "Here, we perform our test:"
   ]
  },
  {
   "cell_type": "code",
   "execution_count": 3,
   "metadata": {},
   "outputs": [
    {
     "name": "stdout",
     "output_type": "stream",
     "text": [
      "....\r\n",
      "----------------------------------------------------------------------\r\n",
      "Ran 4 tests in 0.002s\r\n",
      "\r\n",
      "OK\r\n"
     ]
    }
   ],
   "source": [
    "!python ../src/evaluation/evaluation.py"
   ]
  },
  {
   "cell_type": "markdown",
   "metadata": {},
   "source": [
    "## OLS model\n",
    "\n",
    "In $\\texttt{src/models/models.py}$ I have included a couple of very simple tests for the $\\texttt{OLS}$ class. The function $\\texttt{test_beta}$ fits a linear model in the xy plane, given the points (1, 1), (2, 2), (3, 2) and (4, 1). Clearly, this will be a horizontal line with intercept 1.5, which is just what we are testing for. The function $\\texttt{test_predict_ols}$ again fits a line in the plane, and checks that it passes through an expected point. I had to use $\\texttt{assertAlmostEqual}$ from $\\texttt{unittests}$, as rounding error is bound to occur with matrix inversion, even in such simple cases as these."
   ]
  },
  {
   "cell_type": "code",
   "execution_count": 4,
   "metadata": {},
   "outputs": [
    {
     "name": "stdout",
     "output_type": "stream",
     "text": [
      "..\r\n",
      "----------------------------------------------------------------------\r\n",
      "Ran 2 tests in 0.005s\r\n",
      "\r\n",
      "OK\r\n"
     ]
    }
   ],
   "source": [
    "!python ../src/models/models.py"
   ]
  }
 ],
 "metadata": {
  "kernelspec": {
   "display_name": "Python [conda env:anaconda]",
   "language": "python",
   "name": "conda-env-anaconda-py"
  },
  "language_info": {
   "codemirror_mode": {
    "name": "ipython",
    "version": 3
   },
   "file_extension": ".py",
   "mimetype": "text/x-python",
   "name": "python",
   "nbconvert_exporter": "python",
   "pygments_lexer": "ipython3",
   "version": "3.5.6"
  }
 },
 "nbformat": 4,
 "nbformat_minor": 2
}
