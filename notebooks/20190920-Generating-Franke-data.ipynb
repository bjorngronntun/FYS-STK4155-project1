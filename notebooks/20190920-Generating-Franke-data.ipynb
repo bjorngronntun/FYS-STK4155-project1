{
 "cells": [
  {
   "cell_type": "markdown",
   "metadata": {},
   "source": [
    "# Generating data from the Franke function\n",
    "In this notebook, our goal is to generate datasets by sampling the Franke function on the rectangle $[0,1]\\times[0,1]$, both with and without the presence of added noise. By varying the noise, we obtain different target values, and it will be interesting to study how our regression methods cope with the noise."
   ]
  },
  {
   "cell_type": "code",
   "execution_count": 9,
   "metadata": {},
   "outputs": [],
   "source": [
    "import numpy as np\n",
    "import os\n",
    "os.sys.path.append(os.path.dirname(os.path.abspath('.')))\n",
    "import pandas as pd\n",
    "\n",
    "# Import local modules\n",
    "from src.data.generate_data import FrankeFunction\n",
    "from src.features.polynomial import PolynomialFeatures"
   ]
  },
  {
   "cell_type": "markdown",
   "metadata": {},
   "source": [
    "We begin by creating the features and collecting them in a matrix $X$. Here, we use the class $\\texttt{PolynomialFeatures}$ in $\\texttt{src.features.polynomial}$."
   ]
  },
  {
   "cell_type": "code",
   "execution_count": 10,
   "metadata": {},
   "outputs": [],
   "source": [
    "x = np.arange(0, 1, 0.05)\n",
    "y = np.arange(0, 1, 0.05)\n",
    "x, y = np.meshgrid(x, y)\n",
    "x, y = x.ravel(), y.ravel()\n",
    "pf = PolynomialFeatures(5)\n",
    "X = pf.fit_transform(np.c_[x.reshape((-1, 1)), y.reshape((-1, 1))], ['x', 'y'])\n",
    "names = pf.names"
   ]
  },
  {
   "cell_type": "markdown",
   "metadata": {},
   "source": [
    "Now, we create the target values by sampling the Franke Function. By varying the noise term, we obtain three different data sets."
   ]
  },
  {
   "cell_type": "code",
   "execution_count": 11,
   "metadata": {},
   "outputs": [],
   "source": [
    "z_no_noise = FrankeFunction(x, y, noise=0, seed=43)\n",
    "z_some_noise = FrankeFunction(x, y, noise=0.1, seed=43)\n",
    "z_noisy = FrankeFunction(x, y, noise=0.9, seed=43)"
   ]
  },
  {
   "cell_type": "markdown",
   "metadata": {},
   "source": [
    "Finally, we create $\\texttt{.csv}$ files containing the three datasets. Of course, the data could easily be generated on the fly as needed, but I choose to save them to file at this point in order to ensure that our subsequent work will be on those three datasets and nothing else."
   ]
  },
  {
   "cell_type": "code",
   "execution_count": 12,
   "metadata": {},
   "outputs": [],
   "source": [
    "df_X = pd.DataFrame(X, columns=names)\n",
    "df_z_no_noise = pd.DataFrame(z_no_noise.reshape((-1, 1)))\n",
    "df_z_some_noise = pd.DataFrame(z_some_noise.reshape((-1, 1)))\n",
    "df_z_noisy = pd.DataFrame(z_noisy.reshape((-1, 1)))\n",
    "df_X.to_csv('../data/generated/X.csv')\n",
    "df_z_no_noise.to_csv('../data/generated/no_noise.csv')\n",
    "df_z_some_noise.to_csv('../data/generated/some_noise.csv')\n",
    "df_z_noisy.to_csv('../data/generated/noisy.csv')"
   ]
  }
 ],
 "metadata": {
  "kernelspec": {
   "display_name": "Python [conda env:anaconda]",
   "language": "python",
   "name": "conda-env-anaconda-py"
  },
  "language_info": {
   "codemirror_mode": {
    "name": "ipython",
    "version": 3
   },
   "file_extension": ".py",
   "mimetype": "text/x-python",
   "name": "python",
   "nbconvert_exporter": "python",
   "pygments_lexer": "ipython3",
   "version": "3.5.6"
  }
 },
 "nbformat": 4,
 "nbformat_minor": 2
}
