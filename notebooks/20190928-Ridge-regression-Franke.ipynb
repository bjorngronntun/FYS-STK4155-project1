{
 "cells": [
  {
   "cell_type": "code",
   "execution_count": 4,
   "metadata": {},
   "outputs": [],
   "source": [
    "import numpy as np\n",
    "import os\n",
    "import pandas as pd\n",
    "from sklearn.model_selection import train_test_split\n",
    "os.sys.path.append(os.path.dirname(os.path.abspath('.')))\n",
    "\n",
    "# Import local modules\n",
    "from src.data.generate_data import FrankeFunction\n",
    "from src.models.models import Ridge\n",
    "from src.evaluation.evaluation import mse, r_squared\n",
    "from src.resampling.resampling import K_fold_splitter"
   ]
  },
  {
   "cell_type": "code",
   "execution_count": 5,
   "metadata": {},
   "outputs": [],
   "source": [
    "df_X = pd.read_csv('../data/generated/X.csv', index_col=0)\n",
    "df_z_no_noise = pd.read_csv('../data/generated/no_noise.csv', usecols=[1])\n",
    "df_z_some_noise = pd.read_csv('../data/generated/some_noise.csv', usecols=[1])\n",
    "df_z_noisy = pd.read_csv('../data/generated/noisy.csv', usecols=[1])\n",
    "\n",
    "X = np.array(df_X)\n",
    "z_no_noise = np.array(df_z_no_noise).ravel()\n",
    "z_some_noise = np.array(df_z_some_noise).ravel()\n",
    "z_noisy = np.array(df_z_noisy).ravel()"
   ]
  },
  {
   "cell_type": "code",
   "execution_count": 8,
   "metadata": {},
   "outputs": [
    {
     "name": "stdout",
     "output_type": "stream",
     "text": [
      "                              |MSE       \n",
      "--------------------------------------------------\n",
      "Lambda 0\n",
      "No noise                      |0.002643  \n",
      "Lambda 0.1\n",
      "No noise                      |0.011181  \n",
      "Lambda 0.2\n",
      "No noise                      |0.012377  \n",
      "Lambda 0.5\n",
      "No noise                      |0.014915  \n",
      "Lambda 6.0\n",
      "No noise                      |0.025436  \n",
      "Lambda 0\n",
      "Some noise (sigma 0.1)        |0.012347  \n",
      "Lambda 0.1\n",
      "Some noise (sigma 0.1)        |0.020400  \n",
      "Lambda 0.2\n",
      "Some noise (sigma 0.1)        |0.021518  \n",
      "Lambda 0.5\n",
      "Some noise (sigma 0.1)        |0.024007  \n",
      "Lambda 6.0\n",
      "Some noise (sigma 0.1)        |0.034638  \n",
      "Lambda 0\n",
      "Noisy (sigma 0.4)             |0.171564  \n",
      "Lambda 0.1\n",
      "Noisy (sigma 0.4)             |0.170981  \n",
      "Lambda 0.2\n",
      "Noisy (sigma 0.4)             |0.171532  \n",
      "Lambda 0.5\n",
      "Noisy (sigma 0.4)             |0.173467  \n",
      "Lambda 6.0\n",
      "Noisy (sigma 0.4)             |0.183391  \n"
     ]
    }
   ],
   "source": [
    "k = 10\n",
    "lambda_values = [0, 0.1, 0.2, 0.5, 6.0]\n",
    "targets = [{\n",
    "    'name': 'No noise',\n",
    "    'values': z_no_noise\n",
    "},\n",
    "{\n",
    "    'name': 'Some noise (sigma 0.1)',\n",
    "    'values': z_some_noise\n",
    "},\n",
    "{\n",
    "    'name': 'Noisy (sigma 0.4)',\n",
    "    'values': z_noisy\n",
    "}]\n",
    "\n",
    "col_names = ['MSE']\n",
    "output_df = pd.DataFrame(columns=col_names)\n",
    "print('%-30s|%-10s' %('', 'MSE'))\n",
    "\n",
    "print('-'*50)\n",
    "\n",
    "for target in targets:\n",
    "    for lambda_value in lambda_values:\n",
    "        print('Lambda', lambda_value)\n",
    "        mse_values = np.zeros(k)\n",
    "        z = target['values']\n",
    "        ridge = Ridge(lambda_value)\n",
    "    \n",
    "        kfs = K_fold_splitter(X.shape[0], k)\n",
    "        fold_indices = kfs.cross_val_split()\n",
    "    \n",
    "        for j, fold in enumerate(fold_indices):     \n",
    "            X_train = X[fold['train_indices']]\n",
    "            z_train = z[fold['train_indices']]\n",
    "            X_test = X[fold['test_indices']]\n",
    "            z_test = z[fold['test_indices']]\n",
    "        \n",
    "            ridge.fit(X_train, z_train)\n",
    "            predictions = ridge.predict(X_test)\n",
    "            mean_squared_error = mse(z_test, predictions)\n",
    "        \n",
    "            mse_values[j] = mean_squared_error\n",
    "    \n",
    "        mse_value = np.mean(mse_values)\n",
    "        print('%-30s|%-10f' %(target['name'], mse_value))\n",
    "        output_df = output_df.append(pd.DataFrame(data=[[mse_value]], columns=col_names, index=[target['name']]))"
   ]
  }
 ],
 "metadata": {
  "kernelspec": {
   "display_name": "Python [conda env:anaconda]",
   "language": "python",
   "name": "conda-env-anaconda-py"
  },
  "language_info": {
   "codemirror_mode": {
    "name": "ipython",
    "version": 3
   },
   "file_extension": ".py",
   "mimetype": "text/x-python",
   "name": "python",
   "nbconvert_exporter": "python",
   "pygments_lexer": "ipython3",
   "version": "3.5.6"
  }
 },
 "nbformat": 4,
 "nbformat_minor": 2
}
