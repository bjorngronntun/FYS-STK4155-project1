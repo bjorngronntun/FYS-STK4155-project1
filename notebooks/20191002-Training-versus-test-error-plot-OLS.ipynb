{
 "cells": [
  {
   "cell_type": "markdown",
   "metadata": {},
   "source": [
    "# Part c - Bias-variance trade-off\n",
    "Our goal in this notebook is to make a plot similar to Fig. 2.11 in \"The Elements of Statistical Learning\", by Hastie, Tibishirani and Friedman."
   ]
  },
  {
   "cell_type": "code",
   "execution_count": 48,
   "metadata": {},
   "outputs": [],
   "source": [
    "import numpy as np\n",
    "import os\n",
    "os.sys.path.append(os.path.dirname(os.path.abspath('.')))\n",
    "import pandas as pd\n",
    "import matplotlib.pyplot as plt\n",
    "% matplotlib inline\n",
    "\n",
    "# Import local modules\n",
    "from src.models.models import OLS\n",
    "from src.evaluation.evaluation import mse\n",
    "from sklearn.model_selection import train_test_split"
   ]
  },
  {
   "cell_type": "markdown",
   "metadata": {},
   "source": [
    "In order not to make things too complicated, we will concentrate on just one set of target values here."
   ]
  },
  {
   "cell_type": "code",
   "execution_count": 56,
   "metadata": {},
   "outputs": [],
   "source": [
    "df_X = pd.read_csv('../data/generated/X.csv', index_col=0)\n",
    "df_z_some_noise = pd.read_csv('../data/generated/noisy.csv', usecols=[1])\n",
    "z = np.array(df_z_some_noise).ravel()\n",
    "all_columns = list(df_X.columns)"
   ]
  },
  {
   "cell_type": "markdown",
   "metadata": {},
   "source": [
    "We now will obtain train and test MSE for different polynomial degree (from 0 to 5)."
   ]
  },
  {
   "cell_type": "code",
   "execution_count": 58,
   "metadata": {},
   "outputs": [],
   "source": [
    "os = OLS()\n",
    "columns_by_degree = [\n",
    "    all_columns[0],\n",
    "    all_columns[0:3],\n",
    "    all_columns[0:6],\n",
    "    all_columns[0:10],\n",
    "    all_columns[0:15],\n",
    "    all_columns\n",
    "]\n",
    "train_mse_scores = np.zeros(len(columns_by_degree))\n",
    "test_mse_scores = np.zeros(len(columns_by_degree))\n",
    "\n",
    "z_train, z_test = train_test_split(z, test_size=0.7, random_state=32)\n",
    "# Obtain train mse for degree=zero\n",
    "train_predictions = np.repeat(np.mean(z_train), z_train.shape[0])\n",
    "test_predictions = np.repeat(np.mean(z_train), z_test.shape[0])\n",
    "train_mse_scores[0] = mse(z_train, train_predictions)\n",
    "test_mse_scores[0] = mse(z_test, test_predictions)\n",
    "\n",
    "for degree in range(1, len(columns_by_degree)):\n",
    "    cols = columns_by_degree[degree]\n",
    "    X = np.array(df_X[cols])\n",
    "    X_train, X_test, z_train, z_test = train_test_split(X, z, test_size=0.7, random_state=32)\n",
    "    \n",
    "    os.fit(X_train, z_train)\n",
    "    # Obtain train mse\n",
    "    predictions = os.predict(X_train)\n",
    "    mse_score = mse(z_train, predictions)\n",
    "    train_mse_scores[degree] = mse_score\n",
    "    \n",
    "    # Obtain test mse\n",
    "    predictions = os.predict(X_test)\n",
    "    mse_score = mse(z_test, predictions)\n",
    "    test_mse_scores[degree] = mse_score\n",
    "    \n"
   ]
  },
  {
   "cell_type": "markdown",
   "metadata": {},
   "source": [
    "The above code will allow us to make the following plot"
   ]
  },
  {
   "cell_type": "code",
   "execution_count": 67,
   "metadata": {},
   "outputs": [
    {
     "data": {
      "image/png": "[encoded data removed]",
      "text/plain": [
       "<Figure size 432x288 with 1 Axes>"
      ]
     },
     "metadata": {
      "needs_background": "light"
     },
     "output_type": "display_data"
    }
   ],
   "source": [
    "plt.figure()\n",
    "plt.title('Train and test MSE')\n",
    "plt.plot(train_mse_scores, c='b', label='Train')\n",
    "plt.plot(test_mse_scores, c='r', label='Test')\n",
    "plt.xlabel('Degree')\n",
    "plt.ylabel('MSE')\n",
    "plt.legend()\n",
    "plt.savefig('../reports/figures/3_train_and_test_mse.png')\n",
    "plt.show()\n"
   ]
  }
 ],
 "metadata": {
  "kernelspec": {
   "display_name": "Python [conda env:anaconda]",
   "language": "python",
   "name": "conda-env-anaconda-py"
  },
  "language_info": {
   "codemirror_mode": {
    "name": "ipython",
    "version": 3
   },
   "file_extension": ".py",
   "mimetype": "text/x-python",
   "name": "python",
   "nbconvert_exporter": "python",
   "pygments_lexer": "ipython3",
   "version": "3.5.6"
  }
 },
 "nbformat": 4,
 "nbformat_minor": 2
}
