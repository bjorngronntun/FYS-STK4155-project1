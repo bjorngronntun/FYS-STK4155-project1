{
 "cells": [
  {
   "cell_type": "markdown",
   "metadata": {},
   "source": [
    "# Part a): Ordinary Least Square on the Franke function\n",
    "In this notebook, we generate a dataset by sampling the Franke function on the rectangle $[0,1]\\times[0,1]$, both with and without the presence of added noise. We then try fitting a polynomial function to these dataset, and evaluate how well we are able to approximate the data."
   ]
  },
  {
   "cell_type": "code",
   "execution_count": 3,
   "metadata": {},
   "outputs": [],
   "source": [
    "import numpy as np\n",
    "import os\n",
    "os.sys.path.append(os.path.dirname(os.path.abspath('.')))\n",
    "\n",
    "# Import local modules\n",
    "from src.data.generate_data import FrankeFunction\n",
    "from src.models.models import OLS\n",
    "from src.features.polynomial import PolynomialFeatures\n",
    "from src.evaluation.evaluation import mse, r_squared"
   ]
  },
  {
   "cell_type": "markdown",
   "metadata": {},
   "source": [
    "We begin by creating the features. Here, we use the class $\\texttt{PolynomialFeatures}$ in $\\texttt{src.features.polynomial}$."
   ]
  },
  {
   "cell_type": "code",
   "execution_count": 4,
   "metadata": {},
   "outputs": [],
   "source": [
    "x = np.arange(0, 1, 0.05)\n",
    "y = np.arange(0, 1, 0.05)\n",
    "x, y = np.meshgrid(x, y)\n",
    "x, y = x.ravel(), y.ravel()\n",
    "pf = PolynomialFeatures(5)\n",
    "X = pf.fit_transform(np.c_[x.reshape((-1, 1)), y.reshape((-1, 1))])"
   ]
  },
  {
   "cell_type": "markdown",
   "metadata": {},
   "source": [
    "Now, we create the target values by sampling the Franke Function. By varying the noise term, we obtain different data sets."
   ]
  },
  {
   "cell_type": "code",
   "execution_count": 5,
   "metadata": {},
   "outputs": [
    {
     "name": "stdout",
     "output_type": "stream",
     "text": [
      "Noise     MSE       R squared \n",
      "0.00      0.002     0.99993004\n",
      "0.20      0.038     0.99919371\n",
      "0.40      0.152     0.99842182\n",
      "0.60      0.343     0.99805820\n",
      "0.80      0.610     0.99788163\n",
      "1.00      0.955     0.99778555\n",
      "1.20      1.377     0.99772790\n",
      "1.40      1.877     0.99769059\n",
      "1.60      2.453     0.99766500\n",
      "1.80      3.107     0.99764662\n",
      "2.00      3.838     0.99763293\n",
      "2.20      4.646     0.99762243\n",
      "2.40      5.531     0.99761417\n",
      "2.60      6.493     0.99760753\n",
      "2.80      7.533     0.99760211\n"
     ]
    }
   ],
   "source": [
    "# Compute mse for varying noise:\n",
    "ols = OLS()\n",
    "noises = np.arange(0, 3.0, 0.2)\n",
    "print('%-10s%-10s%-10s' %('Noise', 'MSE', 'R squared'))\n",
    "for noise in noises:\n",
    "    z = FrankeFunction(x, y, noise=noise, seed=43)\n",
    "    ols.fit(X, z)\n",
    "    predictions = ols.predict(X)\n",
    "    mean_squared_error = mse(z, predictions)\n",
    "    r_s = r_squared(z, predictions)\n",
    "    print('%-10.2f%-10.3f%-10.8f' %(noise, mean_squared_error, r_s))"
   ]
  },
  {
   "cell_type": "markdown",
   "metadata": {},
   "source": [
    "We see a how an increase in noise increases the mean square error, but that the R squared statistic remains fairly close to 1."
   ]
  }
 ],
 "metadata": {
  "kernelspec": {
   "display_name": "Python [conda env:anaconda]",
   "language": "python",
   "name": "conda-env-anaconda-py"
  },
  "language_info": {
   "codemirror_mode": {
    "name": "ipython",
    "version": 3
   },
   "file_extension": ".py",
   "mimetype": "text/x-python",
   "name": "python",
   "nbconvert_exporter": "python",
   "pygments_lexer": "ipython3",
   "version": "3.5.6"
  }
 },
 "nbformat": 4,
 "nbformat_minor": 2
}
