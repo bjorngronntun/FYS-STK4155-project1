{
 "cells": [
  {
   "cell_type": "markdown",
   "metadata": {},
   "source": [
    "# Part a): Ordinary Least Square on the Franke function\n",
    "In this notebook, we generate a dataset by sampling the Franke function on the rectangle $[0,1]\\times[0,1]$, both with and without the presence of added noise. We then try fitting a polynomial function to these dataset, and evaluate how well we are able to approximate the data."
   ]
  },
  {
   "cell_type": "code",
   "execution_count": 1,
   "metadata": {},
   "outputs": [],
   "source": [
    "import numpy as np\n",
    "import os\n",
    "os.sys.path.append(os.path.dirname(os.path.abspath('.')))\n",
    "import pandas as pd\n",
    "\n",
    "# Import local modules\n",
    "from src.models.models import OLS\n",
    "from src.evaluation.evaluation import mse, r_squared"
   ]
  },
  {
   "cell_type": "code",
   "execution_count": 2,
   "metadata": {},
   "outputs": [
    {
     "data": {
      "text/plain": [
       "(400,)"
      ]
     },
     "execution_count": 2,
     "metadata": {},
     "output_type": "execute_result"
    }
   ],
   "source": [
    "df_X = pd.read_csv('../data/generated/X.csv', index_col=0)\n",
    "df_z_no_noise = pd.read_csv('../data/generated/no_noise.csv', usecols=[1])\n",
    "df_z_some_noise = pd.read_csv('../data/generated/some_noise.csv', usecols=[1])\n",
    "df_z_noisy = pd.read_csv('../data/generated/noisy.csv', usecols=[1])\n",
    "\n",
    "X = np.array(df_X)\n",
    "z_no_noise = np.array(df_z_no_noise).ravel()\n",
    "z_some_noise = np.array(df_z_some_noise).ravel()\n",
    "z_noisy = np.array(df_z_noisy).ravel()\n",
    "\n",
    "z_no_noise.shape"
   ]
  },
  {
   "cell_type": "markdown",
   "metadata": {},
   "source": [
    "We will now compute the MSE and the $R^2$ score for our three datasets. We will store our results in a csv file in order to show them in our final report."
   ]
  },
  {
   "cell_type": "code",
   "execution_count": null,
   "metadata": {},
   "outputs": [],
   "source": []
  },
  {
   "cell_type": "code",
   "execution_count": 44,
   "metadata": {},
   "outputs": [
    {
     "name": "stdout",
     "output_type": "stream",
     "text": [
      "Data                          |MSE       |R^2       \n",
      "--------------------------------------------------\n",
      "No noise                      |0.002143  |0.999930  \n",
      "Some noise (sigma 0.1)        |0.010636  |0.999698  \n",
      "Noisy (sigma 0.9)             |0.773151  |0.997827  \n"
     ]
    }
   ],
   "source": [
    "targets = [{\n",
    "    'name': 'No noise',\n",
    "    'values': z_no_noise\n",
    "},\n",
    "{\n",
    "    'name': 'Some noise (sigma 0.1)',\n",
    "    'values': z_some_noise\n",
    "},\n",
    "{\n",
    "    'name': 'Noisy (sigma 0.9)',\n",
    "    'values': z_noisy\n",
    "}]\n",
    "col_names = ['MSE', 'R^2']\n",
    "output_df = pd.DataFrame(columns=col_names)\n",
    "print('%-30s|%-10s|%-10s' %('Data', 'MSE', 'R^2'))\n",
    "print('-'*50)\n",
    "for target in targets:\n",
    "    z = target['values']\n",
    "    ol = OLS()\n",
    "    ol.fit(X, target['values'])\n",
    "    predictions = ol.predict(X)\n",
    "    \n",
    "    mse_value = mse(z, predictions)\n",
    "    r_2_value = r_squared(z, predictions)\n",
    "    print('%-30s|%-10f|%-10f' %(target['name'], mse_value, r_2_value))\n",
    "    \n",
    "    output_df = output_df.append(pd.DataFrame(data=[[mse_value, r_2_value]], columns=col_names, index=[target['name']]))\n",
    "output_df.to_csv('../reports/csv_files/1_mse_r2_score.csv')"
   ]
  },
  {
   "cell_type": "markdown",
   "metadata": {},
   "source": [
    "We see a how an increase in noise increases the mean square error, but that the R squared statistic remains fairly close to 1.\n",
    "\n",
    "Now we will get our $\\beta$ estimates and their individual variances. This will enable to construct confidence intervals for the parameters. The output will be saved in three individual csv files and shown in the final report."
   ]
  },
  {
   "cell_type": "code",
   "execution_count": 45,
   "metadata": {},
   "outputs": [],
   "source": [
    "targets = [{\n",
    "    'name': 'No noise',\n",
    "    'values': z_no_noise,\n",
    "    'filename': '1_parameters_with_confidence_intervals_no_noise.csv'\n",
    "},\n",
    "{\n",
    "    'name': 'Some noise (sigma 0.1)',\n",
    "    'values': z_some_noise,\n",
    "    'filename': '1_parameters_with_confidence_intervals_some_noise.csv'\n",
    "},\n",
    "{\n",
    "    'name': 'Noisy (sigma 0.9)',\n",
    "    'values': z_noisy,\n",
    "    'filename': '1_parameters_with_confidence_intervals_noisy.csv'\n",
    "}]\n",
    "features = list(df_X.columns)\n",
    "\n",
    "for target in targets:\n",
    "    z = target['values']\n",
    "    filename = target['filename']\n",
    "    ol = OLS()\n",
    "    ol.fit(X, z)\n",
    "    predictions = ol.predict(X)\n",
    "    \n",
    "    mse_value = mse(z, predictions)\n",
    "    estimate = ol.beta\n",
    "    var_beta = mse_value*np.diag(np.linalg.inv(np.dot(X.transpose(), X)))\n",
    "    lower_bound = estimate - 1.96*np.sqrt(var_beta)\n",
    "    upper_bound = estimate + 1.96*np.sqrt(var_beta)\n",
    "    \n",
    "    parameter_df = pd.DataFrame(\n",
    "        data = pd.compat.OrderedDict([\n",
    "            ('Feature', features,),\n",
    "            ('Estimate', estimate,),\n",
    "            ('Variance', var_beta),\n",
    "            ('Lower bound', lower_bound),\n",
    "            ('Upper bound', upper_bound)\n",
    "        ])   \n",
    "    )\n",
    "    parameter_df.to_csv('../reports/csv_files/' + filename)\n",
    "    \n"
   ]
  }
 ],
 "metadata": {
  "kernelspec": {
   "display_name": "Python [conda env:anaconda]",
   "language": "python",
   "name": "conda-env-anaconda-py"
  },
  "language_info": {
   "codemirror_mode": {
    "name": "ipython",
    "version": 3
   },
   "file_extension": ".py",
   "mimetype": "text/x-python",
   "name": "python",
   "nbconvert_exporter": "python",
   "pygments_lexer": "ipython3",
   "version": "3.5.6"
  }
 },
 "nbformat": 4,
 "nbformat_minor": 2
}
