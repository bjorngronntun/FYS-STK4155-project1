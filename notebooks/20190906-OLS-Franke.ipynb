{
 "cells": [
  {
   "cell_type": "markdown",
   "metadata": {},
   "source": [
    "# Part a)"
   ]
  },
  {
   "cell_type": "code",
   "execution_count": 2,
   "metadata": {},
   "outputs": [],
   "source": [
    "import os\n",
    "os.sys.path.append(os.path.dirname(os.path.abspath('.')))\n",
    "from src.data.generate_data import FrankeFunction\n",
    "from src.models.models import OLS\n",
    "from src.features.polynomial import PolynomialFeatures\n",
    "import numpy as np"
   ]
  },
  {
   "cell_type": "code",
   "execution_count": 38,
   "metadata": {},
   "outputs": [],
   "source": [
    "x = np.arange(0, 1, 0.05)\n",
    "y = np.arange(0, 1, 0.05)\n",
    "x, y = np.meshgrid(x, y)\n",
    "x, y = x.ravel(), y.ravel()\n",
    "z = FrankeFunction(x, y, noise=0.01, seed=43)"
   ]
  },
  {
   "cell_type": "code",
   "execution_count": 39,
   "metadata": {},
   "outputs": [
    {
     "name": "stdout",
     "output_type": "stream",
     "text": [
      "[[1.         0.         0.         ... 0.         0.         0.        ]\n",
      " [1.         0.05       0.         ... 0.         0.         0.        ]\n",
      " [1.         0.1        0.         ... 0.         0.         0.        ]\n",
      " ...\n",
      " [1.         0.85       0.95       ... 0.65205625 0.72876875 0.81450625]\n",
      " [1.         0.9        0.95       ... 0.731025   0.7716375  0.81450625]\n",
      " [1.         0.95       0.95       ... 0.81450625 0.81450625 0.81450625]]\n"
     ]
    }
   ],
   "source": [
    "pf = PolynomialFeatures(4)\n",
    "X = pf.fit_transform(np.c_[x.reshape((-1, 1)), y.reshape((-1, 1))])\n",
    "print(X)"
   ]
  },
  {
   "cell_type": "code",
   "execution_count": 40,
   "metadata": {},
   "outputs": [],
   "source": [
    "ols = OLS()\n",
    "ols.fit(X, z)"
   ]
  },
  {
   "cell_type": "code",
   "execution_count": 42,
   "metadata": {},
   "outputs": [
    {
     "name": "stdout",
     "output_type": "stream",
     "text": [
      "[0.27985113 0.26550947 0.25611674 0.24548076 0.22586564 0.18799174]\n",
      "[0.30502795 0.30526578 0.24190182 0.2435697  0.18566786 0.17013158]\n"
     ]
    }
   ],
   "source": [
    "predictions = ols.predict(X)\n",
    "\n",
    "# Compare some predictions to target values\n",
    "print(predictions[34:40])\n",
    "print(z[34:40])"
   ]
  }
 ],
 "metadata": {
  "kernelspec": {
   "display_name": "Python [conda env:anaconda]",
   "language": "python",
   "name": "conda-env-anaconda-py"
  },
  "language_info": {
   "codemirror_mode": {
    "name": "ipython",
    "version": 3
   },
   "file_extension": ".py",
   "mimetype": "text/x-python",
   "name": "python",
   "nbconvert_exporter": "python",
   "pygments_lexer": "ipython3",
   "version": "3.5.6"
  }
 },
 "nbformat": 4,
 "nbformat_minor": 2
}
